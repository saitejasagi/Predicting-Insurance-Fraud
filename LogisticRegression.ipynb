{
 "cells": [
  {
   "cell_type": "markdown",
   "metadata": {},
   "source": [
    "# Importing all the Libraries"
   ]
  },
  {
   "cell_type": "code",
   "execution_count": 38,
   "metadata": {},
   "outputs": [],
   "source": [
    "import pandas as pd\n",
    "from pandas import ExcelWriter\n",
    "from pandas import ExcelFile\n",
    "from sklearn import preprocessing\n",
    "from sklearn.model_selection import train_test_split \n",
    "from imblearn.combine import SMOTETomek\n",
    "from collections import Counter\n",
    "from sklearn.naive_bayes import GaussianNB \n",
    "from sklearn.linear_model import LogisticRegression\n",
    "from sklearn.ensemble import RandomForestClassifier\n",
    "from sklearn import metrics\n",
    "from sklearn.metrics import classification_report\n",
    "from sklearn.metrics import roc_auc_score\n",
    "from sklearn.metrics import roc_curve\n",
    "from sklearn.metrics import recall_score\n",
    "from sklearn.metrics import accuracy_score\n",
    "from sklearn.metrics import precision_score\n",
    "from sklearn.metrics import f1_score\n",
    "import matplotlib.pyplot as plt\n",
    "from sklearn.model_selection import cross_val_score\n",
    "from sklearn.model_selection import StratifiedKFold\n",
    "from imblearn.pipeline import Pipeline, make_pipeline\n",
    "from sklearn.ensemble import GradientBoostingClassifier\n",
    "from sklearn.neighbors import KNeighborsClassifier\n",
    "from sklearn.svm import SVC\n",
    "from sklearn.metrics import accuracy_score"
   ]
  },
  {
   "cell_type": "markdown",
   "metadata": {},
   "source": [
    "# Reading the 4 Separate sheets of the xlsx dataset"
   ]
  },
  {
   "cell_type": "code",
   "execution_count": 2,
   "metadata": {},
   "outputs": [
    {
     "name": "stdout",
     "output_type": "stream",
     "text": [
      "Column headings:\n",
      "Index(['CustomerID', 'State', 'Salary', 'Gender', 'Smoker', 'Age',\n",
      "       'Occupation'],\n",
      "      dtype='object')\n",
      "Index(['PolicyID', 'CustomerID', 'Agent', 'Elimination Period',\n",
      "       'Income Replacement Percent', 'Monthly Benefit', 'Annualized Premium',\n",
      "       'Product', 'Policy Effective Date'],\n",
      "      dtype='object')\n",
      "Index(['PolicyID', 'Date of Loss', 'Diagnosis Category',\n",
      "       'Length of Disability (in Days)', 'Fraud', 'Amount Paid',\n",
      "       'Amount Recovered'],\n",
      "      dtype='object')\n",
      "Index(['PolicyID', 'Fraud', 'Amount Paid', 'Amount Recovered'], dtype='object')\n"
     ]
    }
   ],
   "source": [
    "Customers = pd.read_excel('C:\\\\Users\\\\tejan\\\\Downloads\\\\Data_Intern_Case_Data.xlsx', sheet_name='Customers')\n",
    "PolicyDetails = pd.read_excel('C:\\\\Users\\\\tejan\\\\Downloads\\\\Data_Intern_Case_Data.xlsx', sheet_name='PolicyDetails')\n",
    "Claims = pd.read_excel('C:\\\\Users\\\\tejan\\\\Downloads\\\\Data_Intern_Case_Data.xlsx', sheet_name='Claims')\n",
    "Fraud = pd.read_excel('C:\\\\Users\\\\tejan\\\\Downloads\\\\Data_Intern_Case_Data.xlsx', sheet_name='Fraud')\n",
    "print(\"Column headings:\")\n",
    "print(Customers.columns)\n",
    "print(PolicyDetails.columns)\n",
    "print(Claims.columns)\n",
    "print(Fraud.columns)"
   ]
  },
  {
   "cell_type": "markdown",
   "metadata": {},
   "source": [
    "# As asked in the problem statement, only considering those cases that have a Disability insurance product brought"
   ]
  },
  {
   "cell_type": "code",
   "execution_count": 3,
   "metadata": {},
   "outputs": [],
   "source": [
    "PolicyDetails = PolicyDetails.query('Product == \"Disability\"')"
   ]
  },
  {
   "cell_type": "markdown",
   "metadata": {},
   "source": [
    "# Merging the Customers data and Policydetails data on \"CustomerID\""
   ]
  },
  {
   "cell_type": "code",
   "execution_count": 4,
   "metadata": {},
   "outputs": [],
   "source": [
    "df1 = pd.merge(Customers, PolicyDetails, on = \"CustomerID\", how = \"inner\")"
   ]
  },
  {
   "cell_type": "code",
   "execution_count": 5,
   "metadata": {},
   "outputs": [
    {
     "data": {
      "text/plain": [
       "(30838, 15)"
      ]
     },
     "execution_count": 5,
     "metadata": {},
     "output_type": "execute_result"
    }
   ],
   "source": [
    "df1.shape"
   ]
  },
  {
   "cell_type": "markdown",
   "metadata": {},
   "source": [
    "# Merging the data with Fraud data on \"PolicyID\""
   ]
  },
  {
   "cell_type": "code",
   "execution_count": 6,
   "metadata": {},
   "outputs": [],
   "source": [
    "df2 =pd.merge(df1, Fraud, on = \"PolicyID\", how = \"inner\")"
   ]
  },
  {
   "cell_type": "markdown",
   "metadata": {},
   "source": [
    "# Dropping the duplicate rows, by keeping the first instance of the duplicate rows"
   ]
  },
  {
   "cell_type": "code",
   "execution_count": 7,
   "metadata": {},
   "outputs": [],
   "source": [
    "df2.drop_duplicates(keep = \"first\", inplace = True)"
   ]
  },
  {
   "cell_type": "markdown",
   "metadata": {},
   "source": [
    "# Dropping the irrelevant columns like date variables, IDs, and variables that realize after the target variable"
   ]
  },
  {
   "cell_type": "code",
   "execution_count": 8,
   "metadata": {},
   "outputs": [],
   "source": [
    "\n",
    "df2.drop(columns = [\"CustomerID\", \"PolicyID\", \"Policy Effective Date\", \"Product\", \"Amount Recovered\", \"State\"], axis = 1, inplace = True)"
   ]
  },
  {
   "cell_type": "code",
   "execution_count": 9,
   "metadata": {},
   "outputs": [
    {
     "data": {
      "text/html": [
       "<div>\n",
       "<style scoped>\n",
       "    .dataframe tbody tr th:only-of-type {\n",
       "        vertical-align: middle;\n",
       "    }\n",
       "\n",
       "    .dataframe tbody tr th {\n",
       "        vertical-align: top;\n",
       "    }\n",
       "\n",
       "    .dataframe thead th {\n",
       "        text-align: right;\n",
       "    }\n",
       "</style>\n",
       "<table border=\"1\" class=\"dataframe\">\n",
       "  <thead>\n",
       "    <tr style=\"text-align: right;\">\n",
       "      <th></th>\n",
       "      <th>Salary</th>\n",
       "      <th>Gender</th>\n",
       "      <th>Smoker</th>\n",
       "      <th>Age</th>\n",
       "      <th>Occupation</th>\n",
       "      <th>Agent</th>\n",
       "      <th>Elimination Period</th>\n",
       "      <th>Income Replacement Percent</th>\n",
       "      <th>Monthly Benefit</th>\n",
       "      <th>Annualized Premium</th>\n",
       "      <th>Fraud</th>\n",
       "      <th>Amount Paid</th>\n",
       "    </tr>\n",
       "  </thead>\n",
       "  <tbody>\n",
       "    <tr>\n",
       "      <th>0</th>\n",
       "      <td>43916.0</td>\n",
       "      <td>1</td>\n",
       "      <td>1</td>\n",
       "      <td>36</td>\n",
       "      <td>Teacher</td>\n",
       "      <td>Alicia Purple</td>\n",
       "      <td>14 days</td>\n",
       "      <td>0.67</td>\n",
       "      <td>2452.0</td>\n",
       "      <td>2118.52800</td>\n",
       "      <td>1</td>\n",
       "      <td>20433.333333</td>\n",
       "    </tr>\n",
       "    <tr>\n",
       "      <th>2</th>\n",
       "      <td>62139.0</td>\n",
       "      <td>0</td>\n",
       "      <td>0</td>\n",
       "      <td>41</td>\n",
       "      <td>Teacher</td>\n",
       "      <td>Alicia Purple</td>\n",
       "      <td>30 days</td>\n",
       "      <td>0.67</td>\n",
       "      <td>3469.0</td>\n",
       "      <td>1398.70080</td>\n",
       "      <td>1</td>\n",
       "      <td>52150.633333</td>\n",
       "    </tr>\n",
       "    <tr>\n",
       "      <th>4</th>\n",
       "      <td>36989.0</td>\n",
       "      <td>0</td>\n",
       "      <td>1</td>\n",
       "      <td>44</td>\n",
       "      <td>Teacher</td>\n",
       "      <td>Max Colorado</td>\n",
       "      <td>14 days</td>\n",
       "      <td>0.67</td>\n",
       "      <td>2065.0</td>\n",
       "      <td>1784.16000</td>\n",
       "      <td>1</td>\n",
       "      <td>10600.333333</td>\n",
       "    </tr>\n",
       "    <tr>\n",
       "      <th>6</th>\n",
       "      <td>42800.0</td>\n",
       "      <td>0</td>\n",
       "      <td>0</td>\n",
       "      <td>50</td>\n",
       "      <td>Teacher</td>\n",
       "      <td>Max Colorado</td>\n",
       "      <td>45 days</td>\n",
       "      <td>0.50</td>\n",
       "      <td>1783.0</td>\n",
       "      <td>684.67200</td>\n",
       "      <td>1</td>\n",
       "      <td>19315.833333</td>\n",
       "    </tr>\n",
       "    <tr>\n",
       "      <th>8</th>\n",
       "      <td>42681.0</td>\n",
       "      <td>0</td>\n",
       "      <td>0</td>\n",
       "      <td>43</td>\n",
       "      <td>Teacher</td>\n",
       "      <td>Nico Vulture</td>\n",
       "      <td>30 days</td>\n",
       "      <td>0.67</td>\n",
       "      <td>2383.0</td>\n",
       "      <td>1152.99072</td>\n",
       "      <td>1</td>\n",
       "      <td>9134.833333</td>\n",
       "    </tr>\n",
       "  </tbody>\n",
       "</table>\n",
       "</div>"
      ],
      "text/plain": [
       "    Salary  Gender  Smoker  Age Occupation          Agent Elimination Period  \\\n",
       "0  43916.0       1       1   36    Teacher  Alicia Purple            14 days   \n",
       "2  62139.0       0       0   41    Teacher  Alicia Purple            30 days   \n",
       "4  36989.0       0       1   44    Teacher   Max Colorado            14 days   \n",
       "6  42800.0       0       0   50    Teacher   Max Colorado            45 days   \n",
       "8  42681.0       0       0   43    Teacher   Nico Vulture            30 days   \n",
       "\n",
       "   Income Replacement Percent  Monthly Benefit  Annualized Premium  Fraud  \\\n",
       "0                        0.67           2452.0          2118.52800      1   \n",
       "2                        0.67           3469.0          1398.70080      1   \n",
       "4                        0.67           2065.0          1784.16000      1   \n",
       "6                        0.50           1783.0           684.67200      1   \n",
       "8                        0.67           2383.0          1152.99072      1   \n",
       "\n",
       "    Amount Paid  \n",
       "0  20433.333333  \n",
       "2  52150.633333  \n",
       "4  10600.333333  \n",
       "6  19315.833333  \n",
       "8   9134.833333  "
      ]
     },
     "execution_count": 9,
     "metadata": {},
     "output_type": "execute_result"
    }
   ],
   "source": [
    "df2.head()"
   ]
  },
  {
   "cell_type": "markdown",
   "metadata": {},
   "source": [
    "# Looking at the summary statistics of the data, to get an idea about the data distribution"
   ]
  },
  {
   "cell_type": "code",
   "execution_count": 10,
   "metadata": {},
   "outputs": [
    {
     "data": {
      "text/html": [
       "<div>\n",
       "<style scoped>\n",
       "    .dataframe tbody tr th:only-of-type {\n",
       "        vertical-align: middle;\n",
       "    }\n",
       "\n",
       "    .dataframe tbody tr th {\n",
       "        vertical-align: top;\n",
       "    }\n",
       "\n",
       "    .dataframe thead th {\n",
       "        text-align: right;\n",
       "    }\n",
       "</style>\n",
       "<table border=\"1\" class=\"dataframe\">\n",
       "  <thead>\n",
       "    <tr style=\"text-align: right;\">\n",
       "      <th></th>\n",
       "      <th>count</th>\n",
       "      <th>unique</th>\n",
       "      <th>top</th>\n",
       "      <th>freq</th>\n",
       "      <th>mean</th>\n",
       "      <th>std</th>\n",
       "      <th>min</th>\n",
       "      <th>25%</th>\n",
       "      <th>50%</th>\n",
       "      <th>75%</th>\n",
       "      <th>max</th>\n",
       "    </tr>\n",
       "  </thead>\n",
       "  <tbody>\n",
       "    <tr>\n",
       "      <th>Salary</th>\n",
       "      <td>30838</td>\n",
       "      <td>NaN</td>\n",
       "      <td>NaN</td>\n",
       "      <td>NaN</td>\n",
       "      <td>46562.2</td>\n",
       "      <td>12676.2</td>\n",
       "      <td>14102</td>\n",
       "      <td>38424.5</td>\n",
       "      <td>47720.5</td>\n",
       "      <td>55411.2</td>\n",
       "      <td>300000</td>\n",
       "    </tr>\n",
       "    <tr>\n",
       "      <th>Gender</th>\n",
       "      <td>30838</td>\n",
       "      <td>NaN</td>\n",
       "      <td>NaN</td>\n",
       "      <td>NaN</td>\n",
       "      <td>0.512031</td>\n",
       "      <td>0.499863</td>\n",
       "      <td>0</td>\n",
       "      <td>0</td>\n",
       "      <td>1</td>\n",
       "      <td>1</td>\n",
       "      <td>1</td>\n",
       "    </tr>\n",
       "    <tr>\n",
       "      <th>Smoker</th>\n",
       "      <td>30838</td>\n",
       "      <td>NaN</td>\n",
       "      <td>NaN</td>\n",
       "      <td>NaN</td>\n",
       "      <td>0.250243</td>\n",
       "      <td>0.43316</td>\n",
       "      <td>0</td>\n",
       "      <td>0</td>\n",
       "      <td>0</td>\n",
       "      <td>1</td>\n",
       "      <td>1</td>\n",
       "    </tr>\n",
       "    <tr>\n",
       "      <th>Age</th>\n",
       "      <td>30838</td>\n",
       "      <td>NaN</td>\n",
       "      <td>NaN</td>\n",
       "      <td>NaN</td>\n",
       "      <td>45.9192</td>\n",
       "      <td>7.95455</td>\n",
       "      <td>18</td>\n",
       "      <td>41</td>\n",
       "      <td>46</td>\n",
       "      <td>51</td>\n",
       "      <td>79</td>\n",
       "    </tr>\n",
       "    <tr>\n",
       "      <th>Occupation</th>\n",
       "      <td>30838</td>\n",
       "      <td>11</td>\n",
       "      <td>Teacher</td>\n",
       "      <td>17322</td>\n",
       "      <td>NaN</td>\n",
       "      <td>NaN</td>\n",
       "      <td>NaN</td>\n",
       "      <td>NaN</td>\n",
       "      <td>NaN</td>\n",
       "      <td>NaN</td>\n",
       "      <td>NaN</td>\n",
       "    </tr>\n",
       "    <tr>\n",
       "      <th>Agent</th>\n",
       "      <td>30838</td>\n",
       "      <td>5</td>\n",
       "      <td>Alicia Purple</td>\n",
       "      <td>11877</td>\n",
       "      <td>NaN</td>\n",
       "      <td>NaN</td>\n",
       "      <td>NaN</td>\n",
       "      <td>NaN</td>\n",
       "      <td>NaN</td>\n",
       "      <td>NaN</td>\n",
       "      <td>NaN</td>\n",
       "    </tr>\n",
       "    <tr>\n",
       "      <th>Elimination Period</th>\n",
       "      <td>30838</td>\n",
       "      <td>3</td>\n",
       "      <td>14 days</td>\n",
       "      <td>17206</td>\n",
       "      <td>NaN</td>\n",
       "      <td>NaN</td>\n",
       "      <td>NaN</td>\n",
       "      <td>NaN</td>\n",
       "      <td>NaN</td>\n",
       "      <td>NaN</td>\n",
       "      <td>NaN</td>\n",
       "    </tr>\n",
       "    <tr>\n",
       "      <th>Income Replacement Percent</th>\n",
       "      <td>30838</td>\n",
       "      <td>NaN</td>\n",
       "      <td>NaN</td>\n",
       "      <td>NaN</td>\n",
       "      <td>0.640903</td>\n",
       "      <td>0.0684406</td>\n",
       "      <td>0.5</td>\n",
       "      <td>0.67</td>\n",
       "      <td>0.67</td>\n",
       "      <td>0.67</td>\n",
       "      <td>0.7</td>\n",
       "    </tr>\n",
       "    <tr>\n",
       "      <th>Monthly Benefit</th>\n",
       "      <td>30838</td>\n",
       "      <td>NaN</td>\n",
       "      <td>NaN</td>\n",
       "      <td>NaN</td>\n",
       "      <td>2486.69</td>\n",
       "      <td>732.374</td>\n",
       "      <td>531</td>\n",
       "      <td>1970</td>\n",
       "      <td>2526</td>\n",
       "      <td>3009</td>\n",
       "      <td>17500</td>\n",
       "    </tr>\n",
       "    <tr>\n",
       "      <th>Annualized Premium</th>\n",
       "      <td>30838</td>\n",
       "      <td>NaN</td>\n",
       "      <td>NaN</td>\n",
       "      <td>NaN</td>\n",
       "      <td>1696.42</td>\n",
       "      <td>883.582</td>\n",
       "      <td>178.464</td>\n",
       "      <td>1014.52</td>\n",
       "      <td>1564.42</td>\n",
       "      <td>2209.54</td>\n",
       "      <td>9878.4</td>\n",
       "    </tr>\n",
       "    <tr>\n",
       "      <th>Fraud</th>\n",
       "      <td>30838</td>\n",
       "      <td>NaN</td>\n",
       "      <td>NaN</td>\n",
       "      <td>NaN</td>\n",
       "      <td>0.14787</td>\n",
       "      <td>0.354976</td>\n",
       "      <td>0</td>\n",
       "      <td>0</td>\n",
       "      <td>0</td>\n",
       "      <td>0</td>\n",
       "      <td>1</td>\n",
       "    </tr>\n",
       "    <tr>\n",
       "      <th>Amount Paid</th>\n",
       "      <td>30838</td>\n",
       "      <td>NaN</td>\n",
       "      <td>NaN</td>\n",
       "      <td>NaN</td>\n",
       "      <td>23872.2</td>\n",
       "      <td>11842.5</td>\n",
       "      <td>182.8</td>\n",
       "      <td>15232.8</td>\n",
       "      <td>21934.1</td>\n",
       "      <td>30498.6</td>\n",
       "      <td>115413</td>\n",
       "    </tr>\n",
       "  </tbody>\n",
       "</table>\n",
       "</div>"
      ],
      "text/plain": [
       "                            count unique            top   freq      mean  \\\n",
       "Salary                      30838    NaN            NaN    NaN   46562.2   \n",
       "Gender                      30838    NaN            NaN    NaN  0.512031   \n",
       "Smoker                      30838    NaN            NaN    NaN  0.250243   \n",
       "Age                         30838    NaN            NaN    NaN   45.9192   \n",
       "Occupation                  30838     11        Teacher  17322       NaN   \n",
       "Agent                       30838      5  Alicia Purple  11877       NaN   \n",
       "Elimination Period          30838      3        14 days  17206       NaN   \n",
       "Income Replacement Percent  30838    NaN            NaN    NaN  0.640903   \n",
       "Monthly Benefit             30838    NaN            NaN    NaN   2486.69   \n",
       "Annualized Premium          30838    NaN            NaN    NaN   1696.42   \n",
       "Fraud                       30838    NaN            NaN    NaN   0.14787   \n",
       "Amount Paid                 30838    NaN            NaN    NaN   23872.2   \n",
       "\n",
       "                                  std      min      25%      50%      75%  \\\n",
       "Salary                        12676.2    14102  38424.5  47720.5  55411.2   \n",
       "Gender                       0.499863        0        0        1        1   \n",
       "Smoker                        0.43316        0        0        0        1   \n",
       "Age                           7.95455       18       41       46       51   \n",
       "Occupation                        NaN      NaN      NaN      NaN      NaN   \n",
       "Agent                             NaN      NaN      NaN      NaN      NaN   \n",
       "Elimination Period                NaN      NaN      NaN      NaN      NaN   \n",
       "Income Replacement Percent  0.0684406      0.5     0.67     0.67     0.67   \n",
       "Monthly Benefit               732.374      531     1970     2526     3009   \n",
       "Annualized Premium            883.582  178.464  1014.52  1564.42  2209.54   \n",
       "Fraud                        0.354976        0        0        0        0   \n",
       "Amount Paid                   11842.5    182.8  15232.8  21934.1  30498.6   \n",
       "\n",
       "                               max  \n",
       "Salary                      300000  \n",
       "Gender                           1  \n",
       "Smoker                           1  \n",
       "Age                             79  \n",
       "Occupation                     NaN  \n",
       "Agent                          NaN  \n",
       "Elimination Period             NaN  \n",
       "Income Replacement Percent     0.7  \n",
       "Monthly Benefit              17500  \n",
       "Annualized Premium          9878.4  \n",
       "Fraud                            1  \n",
       "Amount Paid                 115413  "
      ]
     },
     "execution_count": 10,
     "metadata": {},
     "output_type": "execute_result"
    }
   ],
   "source": [
    "df2.describe(include = 'all').transpose()"
   ]
  },
  {
   "cell_type": "markdown",
   "metadata": {},
   "source": [
    "# Checking for any null values - There are none"
   ]
  },
  {
   "cell_type": "code",
   "execution_count": 11,
   "metadata": {},
   "outputs": [
    {
     "data": {
      "text/plain": [
       "Salary                        0\n",
       "Gender                        0\n",
       "Smoker                        0\n",
       "Age                           0\n",
       "Occupation                    0\n",
       "Agent                         0\n",
       "Elimination Period            0\n",
       "Income Replacement Percent    0\n",
       "Monthly Benefit               0\n",
       "Annualized Premium            0\n",
       "Fraud                         0\n",
       "Amount Paid                   0\n",
       "dtype: int64"
      ]
     },
     "execution_count": 11,
     "metadata": {},
     "output_type": "execute_result"
    }
   ],
   "source": [
    "df2.isnull().sum()"
   ]
  },
  {
   "cell_type": "markdown",
   "metadata": {},
   "source": [
    "# The final data has 30,838 rows and 12 columns"
   ]
  },
  {
   "cell_type": "code",
   "execution_count": 12,
   "metadata": {},
   "outputs": [
    {
     "data": {
      "text/plain": [
       "(30838, 12)"
      ]
     },
     "execution_count": 12,
     "metadata": {},
     "output_type": "execute_result"
    }
   ],
   "source": [
    "df2.shape"
   ]
  },
  {
   "cell_type": "markdown",
   "metadata": {},
   "source": [
    "# There is a class imbalance in the data, Event proportion is 14.78% and non event proportion is 85.22% in the binary Target"
   ]
  },
  {
   "cell_type": "code",
   "execution_count": 13,
   "metadata": {},
   "outputs": [
    {
     "data": {
      "text/plain": [
       "0    0.85213\n",
       "1    0.14787\n",
       "Name: Fraud, dtype: float64"
      ]
     },
     "execution_count": 13,
     "metadata": {},
     "output_type": "execute_result"
    }
   ],
   "source": [
    "df2.Fraud.value_counts(normalize = True)"
   ]
  },
  {
   "cell_type": "code",
   "execution_count": 51,
   "metadata": {},
   "outputs": [
    {
     "data": {
      "image/png": "[encoded data removed]",
      "text/plain": [
       "<Figure size 432x288 with 1 Axes>"
      ]
     },
     "metadata": {
      "needs_background": "light"
     },
     "output_type": "display_data"
    }
   ],
   "source": [
    "ax = df1.hist(\"Salary\", bins = 50)"
   ]
  },
  {
   "cell_type": "code",
   "execution_count": 52,
   "metadata": {},
   "outputs": [
    {
     "data": {
      "image/png": "[encoded data removed]",
      "text/plain": [
       "<Figure size 432x288 with 1 Axes>"
      ]
     },
     "metadata": {
      "needs_background": "light"
     },
     "output_type": "display_data"
    }
   ],
   "source": [
    "ax = df1.hist(\"Age\", bins = 50)"
   ]
  },
  {
   "cell_type": "code",
   "execution_count": 53,
   "metadata": {},
   "outputs": [
    {
     "data": {
      "image/png": "[encoded data removed]",
      "text/plain": [
       "<Figure size 432x288 with 1 Axes>"
      ]
     },
     "metadata": {
      "needs_background": "light"
     },
     "output_type": "display_data"
    }
   ],
   "source": [
    "ax = df1.hist(\"Annualized Premium\", bins = 50)"
   ]
  },
  {
   "cell_type": "code",
   "execution_count": 55,
   "metadata": {},
   "outputs": [
    {
     "data": {
      "image/png": "[encoded data removed]",
      "text/plain": [
       "<Figure size 432x288 with 1 Axes>"
      ]
     },
     "metadata": {
      "needs_background": "light"
     },
     "output_type": "display_data"
    }
   ],
   "source": [
    "ax = df1.hist(\"Monthly Benefit\", bins = 50)"
   ]
  },
  {
   "cell_type": "markdown",
   "metadata": {},
   "source": [
    "# Identifying continuous columns and categorical columns based on my understanding of the data"
   ]
  },
  {
   "cell_type": "code",
   "execution_count": 14,
   "metadata": {},
   "outputs": [],
   "source": [
    "Cont_cols = ['Salary', 'Age', 'Monthly Benefit', 'Annualized Premium', 'Amount Paid']\n",
    "Cat_cols = [  'Occupation', 'Agent', 'Elimination Period', 'Income Replacement Percent']"
   ]
  },
  {
   "cell_type": "markdown",
   "metadata": {},
   "source": [
    "# Standard scaling the continuous variables to make them have equal impact in the modeling process"
   ]
  },
  {
   "cell_type": "code",
   "execution_count": 15,
   "metadata": {},
   "outputs": [],
   "source": [
    "scaler = preprocessing.StandardScaler()\n",
    "for col in Cont_cols:\n",
    "    df2[col] = scaler.fit_transform(df2[col].values.reshape(-1,1))  "
   ]
  },
  {
   "cell_type": "markdown",
   "metadata": {},
   "source": [
    "# Converting the categorical colums to category and then, encoding them to numeric variables, then dropping the original variables"
   ]
  },
  {
   "cell_type": "code",
   "execution_count": 16,
   "metadata": {},
   "outputs": [],
   "source": [
    "for col in Cat_cols:\n",
    "    df2[col] = df2[col].astype('category')"
   ]
  },
  {
   "cell_type": "code",
   "execution_count": 17,
   "metadata": {},
   "outputs": [],
   "source": [
    "dum1_df2 = pd.get_dummies(df2['Occupation'] )\n",
    "dum2_df2 = pd.get_dummies(df2[\"Agent\"] )\n",
    "dum3_df2 = pd.get_dummies(df2[\"Elimination Period\"] )\n",
    "dum4_df2 = pd.get_dummies(df2[\"Income Replacement Percent\"])"
   ]
  },
  {
   "cell_type": "code",
   "execution_count": 132,
   "metadata": {},
   "outputs": [],
   "source": [
    "# dum4_df2 = dum4_df2.reset_index()\n",
    "# dum4_df2.drop(columns = [\"index\"], axis = 1)\n",
    "# dum1_df2 = dum1_df2.reset_index()\n",
    "# dum1_df2.drop(columns = [\"index\"], axis = 1)\n",
    "# dum2_df2 = dum2_df2.reset_index()\n",
    "# dum2_df2.drop(columns = [\"index\"], axis = 1)\n",
    "# dum3_df2 = dum3_df2.reset_index()\n",
    "# dum3_df2.drop(columns = [\"index\"], axis = 1)"
   ]
  },
  {
   "cell_type": "code",
   "execution_count": 18,
   "metadata": {},
   "outputs": [],
   "source": [
    "df2 = pd.concat([df2, dum1_df2], axis = 1)\n",
    "df2 = pd.concat([df2, dum2_df2], axis = 1)\n",
    "df2 = pd.concat([df2, dum3_df2], axis = 1)\n",
    "df2 = pd.concat([df2, dum4_df2], axis = 1)"
   ]
  },
  {
   "cell_type": "code",
   "execution_count": 21,
   "metadata": {},
   "outputs": [],
   "source": [
    "df2.drop(columns = ['Agent', 'Elimination Period', 'Occupation','Income Replacement Percent'], axis = 1, inplace = True)"
   ]
  },
  {
   "cell_type": "markdown",
   "metadata": {},
   "source": [
    "# Separating the data to input data and target data"
   ]
  },
  {
   "cell_type": "code",
   "execution_count": 27,
   "metadata": {},
   "outputs": [],
   "source": [
    "X = df2.loc[:, df2.columns != 'Fraud'].values\n",
    "y = df2['Fraud'].values.reshape(-1)"
   ]
  },
  {
   "cell_type": "markdown",
   "metadata": {},
   "source": [
    "# Splitting the data to training and validation data, doing a validation prportion of 20% and using a stratified split"
   ]
  },
  {
   "cell_type": "code",
   "execution_count": 28,
   "metadata": {},
   "outputs": [],
   "source": [
    "X_train, X_test, y_train, y_test = train_test_split(X, y, test_size=0.2, random_state=1, stratify = y)"
   ]
  },
  {
   "cell_type": "markdown",
   "metadata": {},
   "source": [
    "# Oversampling the training data using SMOTETomek technique"
   ]
  },
  {
   "cell_type": "code",
   "execution_count": 29,
   "metadata": {},
   "outputs": [
    {
     "name": "stdout",
     "output_type": "stream",
     "text": [
      "Original training dataset shape Counter({0: 21022, 1: 3648})\n",
      "Original testing dataset shape Counter({0: 5256, 1: 912})\n",
      "SmoteTomek dataset shape Counter({0: 20369, 1: 20369})\n"
     ]
    }
   ],
   "source": [
    "smt = SMOTETomek(random_state=123)\n",
    "X_smt, y_smt = smt.fit_resample(X_train, y_train)\n",
    "\n",
    "print('Original training dataset shape %s' % Counter(y_train))\n",
    "print('Original testing dataset shape %s' % Counter(y_test))\n",
    "print('SmoteTomek dataset shape %s' % Counter(y_smt))"
   ]
  },
  {
   "cell_type": "markdown",
   "metadata": {},
   "source": [
    "# Let's do Logistic Regression. I will try several different regularization techniques to control overfitting\n"
   ]
  },
  {
   "cell_type": "code",
   "execution_count": 157,
   "metadata": {},
   "outputs": [
    {
     "name": "stdout",
     "output_type": "stream",
     "text": [
      "The accuracy of the Logistic regression model on the SMOTETomek training data is (%): 68.50360842456674\n",
      "The accuracy of the Logistic regression model on the validation data is (%): 64.55901426718547\n"
     ]
    }
   ],
   "source": [
    "clf_1 = LogisticRegression(solver =  'liblinear', penalty = 'l1', random_state=0).fit(X_smt, y_smt)\n",
    "\n",
    "print(\"The accuracy of the Logistic regression model on the SMOTETomek training data is (%):\", clf_1.score(X_smt, y_smt)*100)\n",
    "print(\"The accuracy of the Logistic regression model on the validation data is (%):\", clf_1.score(X_test, y_test)*100)"
   ]
  },
  {
   "cell_type": "code",
   "execution_count": 158,
   "metadata": {},
   "outputs": [
    {
     "name": "stdout",
     "output_type": "stream",
     "text": [
      "The accuracy of the Logistic regression model on the SMOTETomek training data is (%): 68.50360842456674\n",
      "The accuracy of the Logistic regression model on the validation data is (%): 64.57522697795072\n"
     ]
    }
   ],
   "source": [
    "clf_2 = LogisticRegression(solver =  'liblinear', penalty = 'l2', random_state=0).fit(X_smt, y_smt)\n",
    "\n",
    "print(\"The accuracy of the Logistic regression model on the SMOTETomek training data is (%):\", clf_2.score(X_smt, y_smt)*100)\n",
    "print(\"The accuracy of the Logistic regression model on the validation data is (%):\", clf_2.score(X_test, y_test)*100)"
   ]
  },
  {
   "cell_type": "code",
   "execution_count": 161,
   "metadata": {},
   "outputs": [
    {
     "name": "stdout",
     "output_type": "stream",
     "text": [
      "The accuracy of the Logistic regression model on the SMOTETomek training data is (%): 68.49378958220825\n",
      "The accuracy of the Logistic regression model on the validation data is (%): 64.62386511024644\n"
     ]
    }
   ],
   "source": [
    "clf_3 = LogisticRegression(solver =  'saga', penalty = 'elasticnet', l1_ratio = 0.5, max_iter = 1000,random_state=0).fit(X_smt, y_smt)\n",
    "\n",
    "print(\"The accuracy of the Logistic regression model on the SMOTETomek training data is (%):\", clf_3.score(X_smt, y_smt)*100)\n",
    "print(\"The accuracy of the Logistic regression model on the validation data is (%):\", clf_3.score(X_test, y_test)*100)"
   ]
  },
  {
   "cell_type": "code",
   "execution_count": 153,
   "metadata": {},
   "outputs": [
    {
     "name": "stdout",
     "output_type": "stream",
     "text": [
      "The confusion matrix of training data is : \n",
      " [[13030  7339]\n",
      " [ 5492 14877]]\n",
      "The confusion matrix of validation data is : \n",
      " [[3318 1938]\n",
      " [ 248  664]]\n"
     ]
    }
   ],
   "source": [
    "cm_train = metrics.confusion_matrix(y_smt, clf_1.predict(X_smt))\n",
    "print(\"The confusion matrix of training data is :\", \"\\n\", cm_train)\n",
    "cm_test = metrics.confusion_matrix(y_test, clf_1.predict(X_test))\n",
    "print(\"The confusion matrix of validation data is :\", \"\\n\", cm_test)"
   ]
  },
  {
   "cell_type": "code",
   "execution_count": 162,
   "metadata": {},
   "outputs": [
    {
     "name": "stdout",
     "output_type": "stream",
     "text": [
      "The confusion matrix of training data is : \n",
      " [[13034  7335]\n",
      " [ 5496 14873]]\n",
      "The confusion matrix of validation data is : \n",
      " [[3319 1937]\n",
      " [ 248  664]]\n"
     ]
    }
   ],
   "source": [
    "cm_train = metrics.confusion_matrix(y_smt, clf_2.predict(X_smt))\n",
    "print(\"The confusion matrix of training data is :\", \"\\n\", cm_train)\n",
    "cm_test = metrics.confusion_matrix(y_test, clf_2.predict(X_test))\n",
    "print(\"The confusion matrix of validation data is :\", \"\\n\", cm_test)"
   ]
  },
  {
   "cell_type": "code",
   "execution_count": 163,
   "metadata": {},
   "outputs": [
    {
     "name": "stdout",
     "output_type": "stream",
     "text": [
      "The confusion matrix of training data is : \n",
      " [[13030  7339]\n",
      " [ 5496 14873]]\n",
      "The confusion matrix of validation data is : \n",
      " [[3321 1935]\n",
      " [ 247  665]]\n"
     ]
    }
   ],
   "source": [
    "cm_train = metrics.confusion_matrix(y_smt, clf_3.predict(X_smt))\n",
    "print(\"The confusion matrix of training data is :\", \"\\n\", cm_train)\n",
    "cm_test = metrics.confusion_matrix(y_test, clf_3.predict(X_test))\n",
    "print(\"The confusion matrix of validation data is :\", \"\\n\", cm_test)"
   ]
  },
  {
   "cell_type": "code",
   "execution_count": 155,
   "metadata": {},
   "outputs": [
    {
     "name": "stdout",
     "output_type": "stream",
     "text": [
      "The classification report on training data is \n",
      "\n",
      "              precision    recall  f1-score   support\n",
      "\n",
      "           0       0.70      0.64      0.67     20369\n",
      "           1       0.67      0.73      0.70     20369\n",
      "\n",
      "    accuracy                           0.69     40738\n",
      "   macro avg       0.69      0.69      0.68     40738\n",
      "weighted avg       0.69      0.69      0.68     40738\n",
      "\n",
      "The classification report on validation data is \n",
      "\n",
      "              precision    recall  f1-score   support\n",
      "\n",
      "           0       0.93      0.63      0.75      5256\n",
      "           1       0.26      0.73      0.38       912\n",
      "\n",
      "    accuracy                           0.65      6168\n",
      "   macro avg       0.59      0.68      0.57      6168\n",
      "weighted avg       0.83      0.65      0.70      6168\n",
      "\n"
     ]
    }
   ],
   "source": [
    "predictions_train = clf_1.predict(X_smt)\n",
    "predictions_test = clf_1.predict(X_test)\n",
    "print(\"The classification report on training data is \\n\")\n",
    "print(classification_report(y_smt, predictions_train))\n",
    "print(\"The classification report on validation data is \\n\")\n",
    "print(classification_report(y_test, predictions_test))"
   ]
  },
  {
   "cell_type": "code",
   "execution_count": 164,
   "metadata": {},
   "outputs": [
    {
     "name": "stdout",
     "output_type": "stream",
     "text": [
      "The classification report on training data is \n",
      "\n",
      "              precision    recall  f1-score   support\n",
      "\n",
      "           0       0.70      0.64      0.67     20369\n",
      "           1       0.67      0.73      0.70     20369\n",
      "\n",
      "    accuracy                           0.69     40738\n",
      "   macro avg       0.69      0.69      0.68     40738\n",
      "weighted avg       0.69      0.69      0.68     40738\n",
      "\n",
      "The classification report on validation data is \n",
      "\n",
      "              precision    recall  f1-score   support\n",
      "\n",
      "           0       0.93      0.63      0.75      5256\n",
      "           1       0.26      0.73      0.38       912\n",
      "\n",
      "    accuracy                           0.65      6168\n",
      "   macro avg       0.59      0.68      0.57      6168\n",
      "weighted avg       0.83      0.65      0.70      6168\n",
      "\n"
     ]
    }
   ],
   "source": [
    "predictions_train = clf_2.predict(X_smt)\n",
    "predictions_test = clf_2.predict(X_test)\n",
    "print(\"The classification report on training data is \\n\")\n",
    "print(classification_report(y_smt, predictions_train))\n",
    "print(\"The classification report on validation data is \\n\")\n",
    "print(classification_report(y_test, predictions_test))"
   ]
  },
  {
   "cell_type": "code",
   "execution_count": 165,
   "metadata": {},
   "outputs": [
    {
     "name": "stdout",
     "output_type": "stream",
     "text": [
      "The classification report on training data is \n",
      "\n",
      "              precision    recall  f1-score   support\n",
      "\n",
      "           0       0.70      0.64      0.67     20369\n",
      "           1       0.67      0.73      0.70     20369\n",
      "\n",
      "    accuracy                           0.68     40738\n",
      "   macro avg       0.69      0.68      0.68     40738\n",
      "weighted avg       0.69      0.68      0.68     40738\n",
      "\n",
      "The classification report on validation data is \n",
      "\n",
      "              precision    recall  f1-score   support\n",
      "\n",
      "           0       0.93      0.63      0.75      5256\n",
      "           1       0.26      0.73      0.38       912\n",
      "\n",
      "    accuracy                           0.65      6168\n",
      "   macro avg       0.59      0.68      0.57      6168\n",
      "weighted avg       0.83      0.65      0.70      6168\n",
      "\n"
     ]
    }
   ],
   "source": [
    "predictions_train = clf_3.predict(X_smt)\n",
    "predictions_test = clf_3.predict(X_test)\n",
    "print(\"The classification report on training data is \\n\")\n",
    "print(classification_report(y_smt, predictions_train))\n",
    "print(\"The classification report on validation data is \\n\")\n",
    "print(classification_report(y_test, predictions_test))"
   ]
  },
  {
   "cell_type": "code",
   "execution_count": 156,
   "metadata": {},
   "outputs": [
    {
     "data": {
      "image/png": "[encoded data removed]",
      "text/plain": [
       "<Figure size 432x288 with 1 Axes>"
      ]
     },
     "metadata": {
      "needs_background": "light"
     },
     "output_type": "display_data"
    },
    {
     "data": {
      "text/plain": [
       "<Figure size 432x288 with 0 Axes>"
      ]
     },
     "metadata": {},
     "output_type": "display_data"
    }
   ],
   "source": [
    "roc_auc = roc_auc_score(y_test, clf_1.predict_proba(X_test)[:,1])\n",
    "fpr, tpr, thresholds = roc_curve(y_test, clf_1.predict_proba(X_test)[:,1])\n",
    "plt.figure()\n",
    "plt.plot(fpr, tpr, label='Logistic Regression (area = %0.2f)' % roc_auc)\n",
    "plt.plot([0, 1], [0, 1],'r--')\n",
    "plt.xlim([0.0, 1.0])\n",
    "plt.ylim([0.0, 1.05])\n",
    "plt.xlabel('False Positive Rate')\n",
    "plt.ylabel('True Positive Rate')\n",
    "plt.title('Receiver operating characteristic - Logistic Regression Validation data')\n",
    "plt.legend(loc=\"upper left\")\n",
    "plt.savefig('Log_ROC')\n",
    "plt.figure()\n",
    "plt.show()"
   ]
  },
  {
   "cell_type": "code",
   "execution_count": 166,
   "metadata": {},
   "outputs": [
    {
     "data": {
      "image/png": "[encoded data removed]",
      "text/plain": [
       "<Figure size 432x288 with 1 Axes>"
      ]
     },
     "metadata": {
      "needs_background": "light"
     },
     "output_type": "display_data"
    },
    {
     "data": {
      "text/plain": [
       "<Figure size 432x288 with 0 Axes>"
      ]
     },
     "metadata": {},
     "output_type": "display_data"
    }
   ],
   "source": [
    "roc_auc = roc_auc_score(y_test, clf_2.predict_proba(X_test)[:,1])\n",
    "fpr, tpr, thresholds = roc_curve(y_test, clf_2.predict_proba(X_test)[:,1])\n",
    "plt.figure()\n",
    "plt.plot(fpr, tpr, label='Logistic Regression (area = %0.2f)' % roc_auc)\n",
    "plt.plot([0, 1], [0, 1],'r--')\n",
    "plt.xlim([0.0, 1.0])\n",
    "plt.ylim([0.0, 1.05])\n",
    "plt.xlabel('False Positive Rate')\n",
    "plt.ylabel('True Positive Rate')\n",
    "plt.title('Receiver operating characteristic - Logistic Regression Validation data')\n",
    "plt.legend(loc=\"upper left\")\n",
    "plt.savefig('Log_ROC')\n",
    "plt.figure()\n",
    "plt.show()"
   ]
  }
 ],
 "metadata": {
  "kernelspec": {
   "display_name": "Python 3",
   "language": "python",
   "name": "python3"
  },
  "language_info": {
   "codemirror_mode": {
    "name": "ipython",
    "version": 3
   },
   "file_extension": ".py",
   "mimetype": "text/x-python",
   "name": "python",
   "nbconvert_exporter": "python",
   "pygments_lexer": "ipython3",
   "version": "3.7.3"
  }
 },
 "nbformat": 4,
 "nbformat_minor": 2
}
